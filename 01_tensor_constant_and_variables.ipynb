{
  "nbformat": 4,
  "nbformat_minor": 0,
  "metadata": {
    "colab": {
      "provenance": [],
      "authorship_tag": "ABX9TyMgAiH+7nS9ye6cUiKKOUOn",
      "include_colab_link": true
    },
    "kernelspec": {
      "name": "python3",
      "display_name": "Python 3"
    },
    "language_info": {
      "name": "python"
    }
  },
  "cells": [
    {
      "cell_type": "markdown",
      "metadata": {
        "id": "view-in-github",
        "colab_type": "text"
      },
      "source": [
        "<a href=\"https://colab.research.google.com/github/ankitrajput77/google_colab/blob/main/01_tensor_constant_and_variables.ipynb\" target=\"_parent\"><img src=\"https://colab.research.google.com/assets/colab-badge.svg\" alt=\"Open In Colab\"/></a>"
      ]
    },
    {
      "cell_type": "code",
      "execution_count": 1,
      "metadata": {
        "id": "ZYkWlu8TJFRM"
      },
      "outputs": [],
      "source": [
        "import tensorflow as tf"
      ]
    },
    {
      "cell_type": "markdown",
      "source": [
        "\n",
        "\n",
        "\n",
        "\n",
        "\n",
        "\n",
        "\n",
        "# Constant"
      ],
      "metadata": {
        "id": "KaAnw797jZ7B"
      }
    },
    {
      "cell_type": "code",
      "source": [
        "tensor_0_d = tf.constant(4)\n",
        "tensor_0_d"
      ],
      "metadata": {
        "colab": {
          "base_uri": "https://localhost:8080/"
        },
        "id": "YD6TFUonJG8m",
        "outputId": "92188d2e-385d-4046-8fa5-93535829c372"
      },
      "execution_count": 2,
      "outputs": [
        {
          "output_type": "execute_result",
          "data": {
            "text/plain": [
              "<tf.Tensor: shape=(), dtype=int32, numpy=4>"
            ]
          },
          "metadata": {},
          "execution_count": 2
        }
      ]
    },
    {
      "cell_type": "code",
      "source": [
        "tensor_1_d = tf.constant([1, 2, 3, 4.])\n",
        "tensor_1_d"
      ],
      "metadata": {
        "colab": {
          "base_uri": "https://localhost:8080/"
        },
        "id": "C1wdHyVPJWm2",
        "outputId": "e48420a2-547b-4238-cdcc-2213a37840b9"
      },
      "execution_count": 3,
      "outputs": [
        {
          "output_type": "execute_result",
          "data": {
            "text/plain": [
              "<tf.Tensor: shape=(4,), dtype=float32, numpy=array([1., 2., 3., 4.], dtype=float32)>"
            ]
          },
          "metadata": {},
          "execution_count": 3
        }
      ]
    },
    {
      "cell_type": "code",
      "source": [
        "tensor_2_d = tf.constant([\n",
        "    [1, 2, 3, 4],\n",
        "    [5, 6, 7 ,8]\n",
        "    ], dtype='float64')\n",
        "tensor_2_d"
      ],
      "metadata": {
        "colab": {
          "base_uri": "https://localhost:8080/"
        },
        "id": "M2mME5EyJmNe",
        "outputId": "dd87b5ca-0179-48e4-f6b4-4d45c890bd5f"
      },
      "execution_count": 4,
      "outputs": [
        {
          "output_type": "execute_result",
          "data": {
            "text/plain": [
              "<tf.Tensor: shape=(2, 4), dtype=float64, numpy=\n",
              "array([[1., 2., 3., 4.],\n",
              "       [5., 6., 7., 8.]])>"
            ]
          },
          "metadata": {},
          "execution_count": 4
        }
      ]
    },
    {
      "cell_type": "code",
      "source": [
        "tensor_2_d_numpy_array = tensor_2_d.numpy()\n",
        "tensor_2_d_numpy_array"
      ],
      "metadata": {
        "colab": {
          "base_uri": "https://localhost:8080/"
        },
        "id": "XcoVE31cJ7o_",
        "outputId": "86d2b5ff-3bdc-4838-e9f1-e9be90aaf0ae"
      },
      "execution_count": 5,
      "outputs": [
        {
          "output_type": "execute_result",
          "data": {
            "text/plain": [
              "array([[1., 2., 3., 4.],\n",
              "       [5., 6., 7., 8.]])"
            ]
          },
          "metadata": {},
          "execution_count": 5
        }
      ]
    },
    {
      "cell_type": "code",
      "source": [
        "type(tensor_2_d_numpy_array)"
      ],
      "metadata": {
        "colab": {
          "base_uri": "https://localhost:8080/"
        },
        "id": "VVrAdkm6KkB3",
        "outputId": "d36cbe61-7188-4660-e36c-872a327518f7"
      },
      "execution_count": 6,
      "outputs": [
        {
          "output_type": "execute_result",
          "data": {
            "text/plain": [
              "numpy.ndarray"
            ]
          },
          "metadata": {},
          "execution_count": 6
        }
      ]
    },
    {
      "cell_type": "code",
      "source": [
        "tensor_3_d = tf.constant([[[1, 2], [3, 4]], [[5, 6], [7, 8]]])\n",
        "tensor_3_d"
      ],
      "metadata": {
        "colab": {
          "base_uri": "https://localhost:8080/"
        },
        "id": "7sBYYQ2oKyIc",
        "outputId": "c08d5fb1-cbb1-43fb-e6ce-f9e1ae279433"
      },
      "execution_count": 7,
      "outputs": [
        {
          "output_type": "execute_result",
          "data": {
            "text/plain": [
              "<tf.Tensor: shape=(2, 2, 2), dtype=int32, numpy=\n",
              "array([[[1, 2],\n",
              "        [3, 4]],\n",
              "\n",
              "       [[5, 6],\n",
              "        [7, 8]]], dtype=int32)>"
            ]
          },
          "metadata": {},
          "execution_count": 7
        }
      ]
    },
    {
      "cell_type": "code",
      "source": [
        "tensor_3_d.shape"
      ],
      "metadata": {
        "colab": {
          "base_uri": "https://localhost:8080/"
        },
        "id": "01rfswQeLNFS",
        "outputId": "13e2b9b1-b348-4d1e-e05a-390dc5c82ba0"
      },
      "execution_count": 8,
      "outputs": [
        {
          "output_type": "execute_result",
          "data": {
            "text/plain": [
              "TensorShape([2, 2, 2])"
            ]
          },
          "metadata": {},
          "execution_count": 8
        }
      ]
    },
    {
      "cell_type": "code",
      "source": [
        "tensor_4_d = tf.constant([[[[10, 20], [30, 40]], [[50, 60], [70, 80]]], [[[1, 2], [3, 4]], [[5, 6], [7, 8]]]])\n",
        "tensor_4_d"
      ],
      "metadata": {
        "colab": {
          "base_uri": "https://localhost:8080/"
        },
        "id": "B3pkvaA5LTLp",
        "outputId": "00e21435-c2b8-4c48-de10-93b98192cb96"
      },
      "execution_count": 9,
      "outputs": [
        {
          "output_type": "execute_result",
          "data": {
            "text/plain": [
              "<tf.Tensor: shape=(2, 2, 2, 2), dtype=int32, numpy=\n",
              "array([[[[10, 20],\n",
              "         [30, 40]],\n",
              "\n",
              "        [[50, 60],\n",
              "         [70, 80]]],\n",
              "\n",
              "\n",
              "       [[[ 1,  2],\n",
              "         [ 3,  4]],\n",
              "\n",
              "        [[ 5,  6],\n",
              "         [ 7,  8]]]], dtype=int32)>"
            ]
          },
          "metadata": {},
          "execution_count": 9
        }
      ]
    },
    {
      "cell_type": "code",
      "source": [
        "# Casting\n",
        "x = tf.constant([1.8, 2.2], dtype=tf.float32)\n",
        "tf.cast(x, tf.int32)"
      ],
      "metadata": {
        "colab": {
          "base_uri": "https://localhost:8080/"
        },
        "id": "SUxkX2TZMuLj",
        "outputId": "1c83301a-bc72-4f73-c5b3-1f1faa3a8918"
      },
      "execution_count": 10,
      "outputs": [
        {
          "output_type": "execute_result",
          "data": {
            "text/plain": [
              "<tf.Tensor: shape=(2,), dtype=int32, numpy=array([1, 2], dtype=int32)>"
            ]
          },
          "metadata": {},
          "execution_count": 10
        }
      ]
    },
    {
      "cell_type": "code",
      "source": [
        "tensor_string = tf.constant(\"hello\")\n",
        "tensor_string # b before the string indicates that the string is represented as a byte string."
      ],
      "metadata": {
        "colab": {
          "base_uri": "https://localhost:8080/"
        },
        "id": "6lSgyzD6SMeE",
        "outputId": "9ef8716f-fc5f-4bd0-951a-b296e501c1f5"
      },
      "execution_count": 11,
      "outputs": [
        {
          "output_type": "execute_result",
          "data": {
            "text/plain": [
              "<tf.Tensor: shape=(), dtype=string, numpy=b'hello'>"
            ]
          },
          "metadata": {},
          "execution_count": 11
        }
      ]
    },
    {
      "cell_type": "code",
      "source": [
        "import numpy as np"
      ],
      "metadata": {
        "id": "0HK2qrXBT0IF"
      },
      "execution_count": 12,
      "outputs": []
    },
    {
      "cell_type": "code",
      "source": [
        "x = np.array([1 ,2, 3, 4])"
      ],
      "metadata": {
        "id": "iKoR3zumUFj4"
      },
      "execution_count": 13,
      "outputs": []
    },
    {
      "cell_type": "code",
      "source": [
        "tensor_from_numpy = tf.convert_to_tensor(x)\n",
        "tensor_from_numpy"
      ],
      "metadata": {
        "colab": {
          "base_uri": "https://localhost:8080/"
        },
        "id": "YPv5AXrgUHyq",
        "outputId": "05d583ce-d095-4578-fee3-23c9080892cc"
      },
      "execution_count": 14,
      "outputs": [
        {
          "output_type": "execute_result",
          "data": {
            "text/plain": [
              "<tf.Tensor: shape=(4,), dtype=int64, numpy=array([1, 2, 3, 4])>"
            ]
          },
          "metadata": {},
          "execution_count": 14
        }
      ]
    },
    {
      "cell_type": "code",
      "source": [
        "# identity matrix\n",
        "tensor_eye = tf.eye(\n",
        "    num_rows=3,\n",
        "    num_columns=3,\n",
        "    batch_shape=[1, 2],\n",
        "    dtype=tf.int16,\n",
        "    name='identity'\n",
        ")"
      ],
      "metadata": {
        "id": "mKmXzHvUUTDo"
      },
      "execution_count": 15,
      "outputs": []
    },
    {
      "cell_type": "code",
      "source": [
        "tensor_eye"
      ],
      "metadata": {
        "colab": {
          "base_uri": "https://localhost:8080/"
        },
        "id": "lxkLHtwzUxOe",
        "outputId": "4fe4a8ed-2e9f-489d-fd29-a1e98c79b6c3"
      },
      "execution_count": 16,
      "outputs": [
        {
          "output_type": "execute_result",
          "data": {
            "text/plain": [
              "<tf.Tensor: shape=(1, 2, 3, 3), dtype=int16, numpy=\n",
              "array([[[[1, 0, 0],\n",
              "         [0, 1, 0],\n",
              "         [0, 0, 1]],\n",
              "\n",
              "        [[1, 0, 0],\n",
              "         [0, 1, 0],\n",
              "         [0, 0, 1]]]], dtype=int16)>"
            ]
          },
          "metadata": {},
          "execution_count": 16
        }
      ]
    },
    {
      "cell_type": "code",
      "source": [
        "tensor_eye.ndim"
      ],
      "metadata": {
        "colab": {
          "base_uri": "https://localhost:8080/"
        },
        "id": "gSqGPRtmZn5h",
        "outputId": "7380267c-a814-4245-b8a7-149b4c8f87fa"
      },
      "execution_count": 17,
      "outputs": [
        {
          "output_type": "execute_result",
          "data": {
            "text/plain": [
              "4"
            ]
          },
          "metadata": {},
          "execution_count": 17
        }
      ]
    },
    {
      "cell_type": "code",
      "source": [
        "diagonal_tensor = 4*tensor_eye\n",
        "print(diagonal_tensor)"
      ],
      "metadata": {
        "colab": {
          "base_uri": "https://localhost:8080/"
        },
        "id": "S5DHKOBIUy1T",
        "outputId": "85f84fde-14c4-4144-c26e-9a596d0479d0"
      },
      "execution_count": 18,
      "outputs": [
        {
          "output_type": "stream",
          "name": "stdout",
          "text": [
            "tf.Tensor(\n",
            "[[[[4 0 0]\n",
            "   [0 4 0]\n",
            "   [0 0 4]]\n",
            "\n",
            "  [[4 0 0]\n",
            "   [0 4 0]\n",
            "   [0 0 4]]]], shape=(1, 2, 3, 3), dtype=int16)\n"
          ]
        }
      ]
    },
    {
      "cell_type": "code",
      "source": [
        "tensor_fill = tf.fill([4, 3], 9.)\n",
        "tensor_fill"
      ],
      "metadata": {
        "colab": {
          "base_uri": "https://localhost:8080/"
        },
        "id": "xXpEqASmWr45",
        "outputId": "ff468d2e-0d78-4baf-e5ea-5c98178c769c"
      },
      "execution_count": 19,
      "outputs": [
        {
          "output_type": "execute_result",
          "data": {
            "text/plain": [
              "<tf.Tensor: shape=(4, 3), dtype=float32, numpy=\n",
              "array([[9., 9., 9.],\n",
              "       [9., 9., 9.],\n",
              "       [9., 9., 9.],\n",
              "       [9., 9., 9.]], dtype=float32)>"
            ]
          },
          "metadata": {},
          "execution_count": 19
        }
      ]
    },
    {
      "cell_type": "code",
      "source": [
        "tensor_ones = tf.ones([2, 3], 9)\n",
        "tensor_ones"
      ],
      "metadata": {
        "colab": {
          "base_uri": "https://localhost:8080/"
        },
        "id": "e6YMMawzYrp2",
        "outputId": "ca87c9f7-2713-4f87-970c-9cc2acf34802"
      },
      "execution_count": 20,
      "outputs": [
        {
          "output_type": "execute_result",
          "data": {
            "text/plain": [
              "<tf.Tensor: shape=(2, 3), dtype=int64, numpy=\n",
              "array([[1, 1, 1],\n",
              "       [1, 1, 1]])>"
            ]
          },
          "metadata": {},
          "execution_count": 20
        }
      ]
    },
    {
      "cell_type": "code",
      "source": [
        "\n",
        "\n",
        "\n",
        "tensor_random = tf.random.normal([3, 3], # this follows normal distribution\n",
        "                                 mean=5.0, # approx values\n",
        "                                 stddev=0.1, # values are (mean - std , mean + std)\n",
        "                                 dtype=tf.float32,\n",
        "                                 seed=None,\n",
        "                                 name=None)\n",
        "tensor_random"
      ],
      "metadata": {
        "colab": {
          "base_uri": "https://localhost:8080/"
        },
        "id": "7HFyYZxAZARt",
        "outputId": "6c0d2c28-8169-4ad9-eead-5566056cea27"
      },
      "execution_count": 21,
      "outputs": [
        {
          "output_type": "execute_result",
          "data": {
            "text/plain": [
              "<tf.Tensor: shape=(3, 3), dtype=float32, numpy=\n",
              "array([[4.9207087, 4.9630938, 5.1059675],\n",
              "       [5.0536613, 5.045946 , 5.054727 ],\n",
              "       [4.9156847, 4.8046436, 5.079447 ]], dtype=float32)>"
            ]
          },
          "metadata": {},
          "execution_count": 21
        }
      ]
    },
    {
      "cell_type": "code",
      "source": [
        "tf.random.set_seed(5)\n",
        "tensor_uniform = tf.random.uniform([3, 2],\n",
        "                                   minval=0,\n",
        "                                   maxval=1,\n",
        "                                   dtype=tf.float32,\n",
        "                                   seed=10,\n",
        "                                   name=None)\n",
        "tensor_uniform"
      ],
      "metadata": {
        "colab": {
          "base_uri": "https://localhost:8080/"
        },
        "id": "xl4S_kWfa4LT",
        "outputId": "c14ea18c-551d-471f-d21b-9ff9582b189c"
      },
      "execution_count": 22,
      "outputs": [
        {
          "output_type": "execute_result",
          "data": {
            "text/plain": [
              "<tf.Tensor: shape=(3, 2), dtype=float32, numpy=\n",
              "array([[0.09164894, 0.95672214],\n",
              "       [0.02972937, 0.7234143 ],\n",
              "       [0.74135363, 0.04138255]], dtype=float32)>"
            ]
          },
          "metadata": {},
          "execution_count": 22
        }
      ]
    },
    {
      "cell_type": "code",
      "source": [
        "tf.random.set_seed(5) # global random seed\n",
        "tf.random.uniform([3],\n",
        "                                   minval=0,\n",
        "                                   maxval=1,\n",
        "                                   dtype=tf.float32,\n",
        "                                   seed=10, # local operation seed\n",
        "                                   name=None)"
      ],
      "metadata": {
        "colab": {
          "base_uri": "https://localhost:8080/"
        },
        "id": "Sm6vSpFRdN0f",
        "outputId": "5bf1ec6e-d339-4aa3-bb8f-61d8770bed0a"
      },
      "execution_count": 23,
      "outputs": [
        {
          "output_type": "execute_result",
          "data": {
            "text/plain": [
              "<tf.Tensor: shape=(3,), dtype=float32, numpy=array([0.09164894, 0.95672214, 0.02972937], dtype=float32)>"
            ]
          },
          "metadata": {},
          "execution_count": 23
        }
      ]
    },
    {
      "cell_type": "code",
      "source": [
        "#indexing can be done in tensors\n",
        "tensor_4_d[0:2, 0:2, 0:2, 0:2]"
      ],
      "metadata": {
        "colab": {
          "base_uri": "https://localhost:8080/"
        },
        "id": "PAAXV0Y3nAZG",
        "outputId": "dd7e8b99-6d34-4fed-dd1d-d0b50cf7856b"
      },
      "execution_count": 24,
      "outputs": [
        {
          "output_type": "execute_result",
          "data": {
            "text/plain": [
              "<tf.Tensor: shape=(2, 2, 2, 2), dtype=int32, numpy=\n",
              "array([[[[10, 20],\n",
              "         [30, 40]],\n",
              "\n",
              "        [[50, 60],\n",
              "         [70, 80]]],\n",
              "\n",
              "\n",
              "       [[[ 1,  2],\n",
              "         [ 3,  4]],\n",
              "\n",
              "        [[ 5,  6],\n",
              "         [ 7,  8]]]], dtype=int32)>"
            ]
          },
          "metadata": {},
          "execution_count": 24
        }
      ]
    },
    {
      "cell_type": "code",
      "source": [
        "tensor_complex = tf.constant([[-1+2j], [-4+6j]])\n",
        "tensor_complex\n",
        "tf.abs(tensor_complex) # (sqrt(-1^2 + 2^2)) (sqrt(-4^2 + 6^2))"
      ],
      "metadata": {
        "colab": {
          "base_uri": "https://localhost:8080/"
        },
        "id": "9kb1Vkqb3JqT",
        "outputId": "5ddcc06e-1f84-43c0-b415-54ba019a79dd"
      },
      "execution_count": 25,
      "outputs": [
        {
          "output_type": "execute_result",
          "data": {
            "text/plain": [
              "<tf.Tensor: shape=(2, 1), dtype=float64, numpy=\n",
              "array([[2.23606798],\n",
              "       [7.21110255]])>"
            ]
          },
          "metadata": {},
          "execution_count": 25
        }
      ]
    },
    {
      "cell_type": "code",
      "source": [
        "print(tf.math.add([3, 2, 1] ,[1, 2, 3]))\n",
        "print(tf.math.subtract([3, 2, 1] ,[1, 2, 3]))\n",
        "print(tf.math.divide([3, 2, 1] ,[1, 2, 3]))\n",
        "print(tf.math.multiply([3, 2, 1] ,[1, 2, 3]))"
      ],
      "metadata": {
        "colab": {
          "base_uri": "https://localhost:8080/"
        },
        "id": "iseR2pJi4IG4",
        "outputId": "da424dec-ea25-4027-870d-949b810e37bd"
      },
      "execution_count": 26,
      "outputs": [
        {
          "output_type": "stream",
          "name": "stdout",
          "text": [
            "tf.Tensor([4 4 4], shape=(3,), dtype=int32)\n",
            "tf.Tensor([ 2  0 -2], shape=(3,), dtype=int32)\n",
            "tf.Tensor([3.         1.         0.33333333], shape=(3,), dtype=float64)\n",
            "tf.Tensor([3 4 3], shape=(3,), dtype=int32)\n"
          ]
        }
      ]
    },
    {
      "cell_type": "code",
      "source": [
        "tensor_argmax = tf.constant([1, 2, 3, 4, 5])\n",
        "tf.math.argmax(tensor_argmax) # gives index of max value"
      ],
      "metadata": {
        "colab": {
          "base_uri": "https://localhost:8080/"
        },
        "id": "ukXA6eK8CaB4",
        "outputId": "252c735d-1ade-48d1-e6b9-42ef5e29f484"
      },
      "execution_count": 27,
      "outputs": [
        {
          "output_type": "execute_result",
          "data": {
            "text/plain": [
              "<tf.Tensor: shape=(), dtype=int64, numpy=4>"
            ]
          },
          "metadata": {},
          "execution_count": 27
        }
      ]
    },
    {
      "cell_type": "code",
      "source": [
        "x = tf.constant([[3, 4], [1, 2]])\n",
        "y = tf.constant([[2, 3], [4, 5]])\n",
        "tf.pow(x, y)"
      ],
      "metadata": {
        "colab": {
          "base_uri": "https://localhost:8080/"
        },
        "id": "2gBdw67zIDQ1",
        "outputId": "c3556ee0-250a-4fb3-a0f5-5e09d552c84a"
      },
      "execution_count": 28,
      "outputs": [
        {
          "output_type": "execute_result",
          "data": {
            "text/plain": [
              "<tf.Tensor: shape=(2, 2), dtype=int32, numpy=\n",
              "array([[ 9, 64],\n",
              "       [ 1, 32]], dtype=int32)>"
            ]
          },
          "metadata": {},
          "execution_count": 28
        }
      ]
    },
    {
      "cell_type": "code",
      "source": [
        "tf.math.reduce_sum(tf.constant([[1, 2, 3, 4], [1, 2, 3, 4], [1, 2, 3, 4], [1, 2, 3, 4]]), axis=0, keepdims=False, name=None)"
      ],
      "metadata": {
        "colab": {
          "base_uri": "https://localhost:8080/"
        },
        "id": "M1vIZhbIIevn",
        "outputId": "e1e41708-c494-4bb8-8841-469eca80fb9b"
      },
      "execution_count": 29,
      "outputs": [
        {
          "output_type": "execute_result",
          "data": {
            "text/plain": [
              "<tf.Tensor: shape=(4,), dtype=int32, numpy=array([ 4,  8, 12, 16], dtype=int32)>"
            ]
          },
          "metadata": {},
          "execution_count": 29
        }
      ]
    },
    {
      "cell_type": "code",
      "source": [
        "x = tf.constant([0.0, 1.0, 50.0, 100.0])\n",
        "tf.math.sigmoid(x)"
      ],
      "metadata": {
        "colab": {
          "base_uri": "https://localhost:8080/"
        },
        "id": "BKhXWmZdKueM",
        "outputId": "c3da5ec9-85da-4179-b2c7-7ccff21003ca"
      },
      "execution_count": 30,
      "outputs": [
        {
          "output_type": "execute_result",
          "data": {
            "text/plain": [
              "<tf.Tensor: shape=(4,), dtype=float32, numpy=array([0.5      , 0.7310586, 1.       , 1.       ], dtype=float32)>"
            ]
          },
          "metadata": {},
          "execution_count": 30
        }
      ]
    },
    {
      "cell_type": "code",
      "source": [
        "input = tf.random.normal(shape=(2, 2))\n",
        "k = 1\n",
        "values, indices  = tf.math.top_k(input, k=k)\n",
        "input"
      ],
      "metadata": {
        "colab": {
          "base_uri": "https://localhost:8080/"
        },
        "id": "zHyU5YevKv22",
        "outputId": "733ac72b-3478-4658-f58d-c19828389dbb"
      },
      "execution_count": 31,
      "outputs": [
        {
          "output_type": "execute_result",
          "data": {
            "text/plain": [
              "<tf.Tensor: shape=(2, 2), dtype=float32, numpy=\n",
              "array([[-0.18030666, -0.95028627],\n",
              "       [-0.03964049, -0.7425406 ]], dtype=float32)>"
            ]
          },
          "metadata": {},
          "execution_count": 31
        }
      ]
    },
    {
      "cell_type": "code",
      "source": [
        "values.shape == indices.shape == input.shape[:-1] + [k]"
      ],
      "metadata": {
        "colab": {
          "base_uri": "https://localhost:8080/"
        },
        "id": "qH8AbjLZLFh4",
        "outputId": "53fc480d-8e53-40c7-f546-78dc2dbec96f"
      },
      "execution_count": 32,
      "outputs": [
        {
          "output_type": "execute_result",
          "data": {
            "text/plain": [
              "True"
            ]
          },
          "metadata": {},
          "execution_count": 32
        }
      ]
    },
    {
      "cell_type": "code",
      "source": [
        "values"
      ],
      "metadata": {
        "colab": {
          "base_uri": "https://localhost:8080/"
        },
        "id": "c11qtgzrLxr9",
        "outputId": "731fbeb8-0eb9-4e25-a256-85f57254e2eb"
      },
      "execution_count": 33,
      "outputs": [
        {
          "output_type": "execute_result",
          "data": {
            "text/plain": [
              "<tf.Tensor: shape=(2, 1), dtype=float32, numpy=\n",
              "array([[-0.18030666],\n",
              "       [-0.03964049]], dtype=float32)>"
            ]
          },
          "metadata": {},
          "execution_count": 33
        }
      ]
    },
    {
      "cell_type": "code",
      "source": [
        "# matrix multiplication\n",
        "a = tf.constant([1, 2, 3, 4, 5, 6], shape=[2, 3])\n",
        "b = tf.constant([7, 8, 9, 10, 11, 12], shape=[3, 2])\n",
        "tf.linalg.matmul(\n",
        "    a,\n",
        "    b,\n",
        "    transpose_a=False,\n",
        "    transpose_b=False,\n",
        "    adjoint_a=False, # conjjugate and tranpose before mul\n",
        "    adjoint_b=False,\n",
        "    a_is_sparse=False, # larges number of zeros present in matrix\n",
        "    b_is_sparse=False,\n",
        "    output_type=None,\n",
        "    name=None\n",
        ")"
      ],
      "metadata": {
        "id": "HjaAkbrZimMy",
        "colab": {
          "base_uri": "https://localhost:8080/"
        },
        "outputId": "dc6e3bd5-1b57-49f8-8c01-92c874b9b2d2"
      },
      "execution_count": 34,
      "outputs": [
        {
          "output_type": "execute_result",
          "data": {
            "text/plain": [
              "<tf.Tensor: shape=(2, 2), dtype=int32, numpy=\n",
              "array([[ 58,  64],\n",
              "       [139, 154]], dtype=int32)>"
            ]
          },
          "metadata": {},
          "execution_count": 34
        }
      ]
    },
    {
      "cell_type": "code",
      "source": [
        "a@b"
      ],
      "metadata": {
        "colab": {
          "base_uri": "https://localhost:8080/"
        },
        "id": "oVtOw830zNVb",
        "outputId": "bc8c3e1b-8cdf-42e0-fe52-88a36b2d3fd4"
      },
      "execution_count": 35,
      "outputs": [
        {
          "output_type": "execute_result",
          "data": {
            "text/plain": [
              "<tf.Tensor: shape=(2, 2), dtype=int32, numpy=\n",
              "array([[ 58,  64],\n",
              "       [139, 154]], dtype=int32)>"
            ]
          },
          "metadata": {},
          "execution_count": 35
        }
      ]
    },
    {
      "cell_type": "code",
      "source": [
        "tf.transpose(a)"
      ],
      "metadata": {
        "colab": {
          "base_uri": "https://localhost:8080/"
        },
        "id": "mPf0TR2U1RjU",
        "outputId": "f65028db-dae6-49cd-eebd-7a9da357b9e2"
      },
      "execution_count": 36,
      "outputs": [
        {
          "output_type": "execute_result",
          "data": {
            "text/plain": [
              "<tf.Tensor: shape=(3, 2), dtype=int32, numpy=\n",
              "array([[1, 4],\n",
              "       [2, 5],\n",
              "       [3, 6]], dtype=int32)>"
            ]
          },
          "metadata": {},
          "execution_count": 36
        }
      ]
    },
    {
      "cell_type": "code",
      "source": [
        "# LOWER TRIANGULAR MATRIX\n",
        "tf.linalg.band_part(tensor_2_d, -1, 0)"
      ],
      "metadata": {
        "colab": {
          "base_uri": "https://localhost:8080/"
        },
        "id": "vbZJ5vzJ1UoF",
        "outputId": "7dff7f3a-5c86-4fea-eaef-22d8c1d0e14b"
      },
      "execution_count": 37,
      "outputs": [
        {
          "output_type": "execute_result",
          "data": {
            "text/plain": [
              "<tf.Tensor: shape=(2, 4), dtype=float64, numpy=\n",
              "array([[1., 0., 0., 0.],\n",
              "       [5., 6., 0., 0.]])>"
            ]
          },
          "metadata": {},
          "execution_count": 37
        }
      ]
    },
    {
      "cell_type": "code",
      "source": [
        "# UPPER TRIANGULAR MATRIX\n",
        "tf.linalg.band_part(tensor_2_d, 0, -1)"
      ],
      "metadata": {
        "colab": {
          "base_uri": "https://localhost:8080/"
        },
        "id": "OOEzK65G6wpg",
        "outputId": "66d7ab1e-168a-4099-abef-250d6439e63a"
      },
      "execution_count": 38,
      "outputs": [
        {
          "output_type": "execute_result",
          "data": {
            "text/plain": [
              "<tf.Tensor: shape=(2, 4), dtype=float64, numpy=\n",
              "array([[1., 2., 3., 4.],\n",
              "       [0., 6., 7., 8.]])>"
            ]
          },
          "metadata": {},
          "execution_count": 38
        }
      ]
    },
    {
      "cell_type": "code",
      "source": [
        "# DIAGONAL MATRIX\n",
        "tf.linalg.band_part(tensor_2_d, 0, 0)"
      ],
      "metadata": {
        "colab": {
          "base_uri": "https://localhost:8080/"
        },
        "id": "m5C-dqd56566",
        "outputId": "fabd58a9-73c3-4010-b9e9-ef94d5d9036d"
      },
      "execution_count": 39,
      "outputs": [
        {
          "output_type": "execute_result",
          "data": {
            "text/plain": [
              "<tf.Tensor: shape=(2, 4), dtype=float64, numpy=\n",
              "array([[1., 0., 0., 0.],\n",
              "       [0., 6., 0., 0.]])>"
            ]
          },
          "metadata": {},
          "execution_count": 39
        }
      ]
    },
    {
      "cell_type": "code",
      "source": [
        "tf.linalg.inv([[1, 2.],[3, 4]]) # remember to have float"
      ],
      "metadata": {
        "colab": {
          "base_uri": "https://localhost:8080/"
        },
        "id": "-9-3Mp_S6-wI",
        "outputId": "b0c59999-9ea1-4f97-8474-8881cbef00d4"
      },
      "execution_count": 40,
      "outputs": [
        {
          "output_type": "execute_result",
          "data": {
            "text/plain": [
              "<tf.Tensor: shape=(2, 2), dtype=float32, numpy=\n",
              "array([[-2.0000002 ,  1.0000001 ],\n",
              "       [ 1.5000001 , -0.50000006]], dtype=float32)>"
            ]
          },
          "metadata": {},
          "execution_count": 40
        }
      ]
    },
    {
      "cell_type": "code",
      "source": [
        "tf.linalg.trace([[1, 2.],[3, 4]])"
      ],
      "metadata": {
        "colab": {
          "base_uri": "https://localhost:8080/"
        },
        "id": "ZOZtXyG-7GUn",
        "outputId": "67c2ad03-2bf6-42fe-bf13-1d2f1a8a64c5"
      },
      "execution_count": 41,
      "outputs": [
        {
          "output_type": "execute_result",
          "data": {
            "text/plain": [
              "<tf.Tensor: shape=(), dtype=float32, numpy=5.0>"
            ]
          },
          "metadata": {},
          "execution_count": 41
        }
      ]
    },
    {
      "cell_type": "code",
      "source": [
        "# matrix mul\n",
        "a = tf.constant([1, 2, 3, 4, 5, 6], shape=[2, 3])\n",
        "b = tf.constant([7, 8, 9, 10, 11, 12], shape=[3, 2])\n",
        "e = tf.einsum('ij,jk->ik', a, b)\n",
        "print(e.shape)\n",
        "print(e)"
      ],
      "metadata": {
        "colab": {
          "base_uri": "https://localhost:8080/"
        },
        "id": "hkSFyyyLBakO",
        "outputId": "fd7f4bef-3f1e-4f85-b530-fc8aa470557a"
      },
      "execution_count": 47,
      "outputs": [
        {
          "output_type": "stream",
          "name": "stdout",
          "text": [
            "(2, 2)\n",
            "tf.Tensor(\n",
            "[[ 58  64]\n",
            " [139 154]], shape=(2, 2), dtype=int32)\n"
          ]
        }
      ]
    },
    {
      "cell_type": "code",
      "source": [
        "# matrix mul\n",
        "a = tf.constant([1, 2, 3, 4, 5, 6], shape=[2, 3])\n",
        "b = tf.constant([7, 8, 9, 10, 11, 12], shape=[2, 3])\n",
        "e = tf.einsum('ij,kj->ik', a, b) # ( a*b^t )\n",
        "print(e.shape)\n",
        "print(e)"
      ],
      "metadata": {
        "colab": {
          "base_uri": "https://localhost:8080/"
        },
        "id": "eZcHQhqnCo_y",
        "outputId": "3c17e7ab-5109-4182-b5ff-b7b458625e0f"
      },
      "execution_count": 50,
      "outputs": [
        {
          "output_type": "stream",
          "name": "stdout",
          "text": [
            "(2, 2)\n",
            "tf.Tensor(\n",
            "[[ 50  68]\n",
            " [122 167]], shape=(2, 2), dtype=int32)\n"
          ]
        }
      ]
    },
    {
      "cell_type": "code",
      "source": [
        "import numpy as np\n",
        "A = np.random.randn(2, 4, 4, 2)\n",
        "B = np.random.randn(2, 4, 4, 1)\n",
        "np.einsum(\"bcik, bcij -> bckj\", A, B).shape"
      ],
      "metadata": {
        "colab": {
          "base_uri": "https://localhost:8080/"
        },
        "id": "mh9Vl7HiFovu",
        "outputId": "f24a05dc-91fd-42cc-f5d6-7badbad86772"
      },
      "execution_count": 53,
      "outputs": [
        {
          "output_type": "execute_result",
          "data": {
            "text/plain": [
              "(2, 4, 2, 1)"
            ]
          },
          "metadata": {},
          "execution_count": 53
        }
      ]
    },
    {
      "cell_type": "code",
      "source": [
        "# remove dimension of size 1\n",
        "t = np.random.randn(1, 2, 1, 3, 1, 1)\n",
        "tf.shape(tf.squeeze(t, [2, 4]))  # [1, 2, 3, 1]"
      ],
      "metadata": {
        "colab": {
          "base_uri": "https://localhost:8080/"
        },
        "id": "702uvIdyG7fU",
        "outputId": "757724b1-0b7d-430a-f5cf-967feb81bd09"
      },
      "execution_count": 55,
      "outputs": [
        {
          "output_type": "execute_result",
          "data": {
            "text/plain": [
              "<tf.Tensor: shape=(4,), dtype=int32, numpy=array([1, 2, 3, 1], dtype=int32)>"
            ]
          },
          "metadata": {},
          "execution_count": 55
        }
      ]
    },
    {
      "cell_type": "code",
      "source": [
        "image = tf.zeros([10,10,3])\n",
        "print(image.shape)\n",
        "print(tf.expand_dims(image, axis=1).shape.as_list())\n",
        "print(tf.expand_dims(image, axis=3).shape.as_list())"
      ],
      "metadata": {
        "colab": {
          "base_uri": "https://localhost:8080/"
        },
        "id": "uFN4HDArIeCn",
        "outputId": "3f171a1d-9677-459a-b958-e8cfac8312e5"
      },
      "execution_count": 62,
      "outputs": [
        {
          "output_type": "stream",
          "name": "stdout",
          "text": [
            "(10, 10, 3)\n",
            "[10, 1, 10, 3]\n",
            "[10, 10, 3, 1]\n"
          ]
        }
      ]
    },
    {
      "cell_type": "markdown",
      "source": [
        "# Ragged Tensor"
      ],
      "metadata": {
        "id": "Zz1xUEnTMtR_"
      }
    },
    {
      "cell_type": "code",
      "source": [
        "A = [\n",
        "    [2, 3],\n",
        "    [5, 6, 7],\n",
        "    [1,],\n",
        "    [8, 9, 0, 0]\n",
        "]\n",
        "tensor_ragged = tf.ragged.constant(A)\n",
        "print(tensor_ragged)\n",
        "print(tensor_ragged.shape)"
      ],
      "metadata": {
        "colab": {
          "base_uri": "https://localhost:8080/"
        },
        "id": "zqSG3BopJhwN",
        "outputId": "217631ca-22d1-4c02-93dd-95cfcbf6e8e9"
      },
      "execution_count": 69,
      "outputs": [
        {
          "output_type": "stream",
          "name": "stdout",
          "text": [
            "<tf.RaggedTensor [[2, 3], [5, 6, 7], [1], [8, 9, 0, 0]]>\n",
            "(4, None)\n"
          ]
        }
      ]
    },
    {
      "cell_type": "code",
      "source": [
        "tf.ragged.boolean_mask(  # Mask a 2D Tensor.\n",
        "data=[[1, 2, 3], [4, 5, 6], [7, 8, 9]],\n",
        "mask=[[True, False, True], [False, False, False], [True, False, False]])"
      ],
      "metadata": {
        "colab": {
          "base_uri": "https://localhost:8080/"
        },
        "id": "Qhtt1vEwM8Hb",
        "outputId": "f89822a1-e47f-4d28-fc26-4aed68a1523c"
      },
      "execution_count": 74,
      "outputs": [
        {
          "output_type": "execute_result",
          "data": {
            "text/plain": [
              "<tf.RaggedTensor [[1, 3], [], [7]]>"
            ]
          },
          "metadata": {},
          "execution_count": 74
        }
      ]
    },
    {
      "cell_type": "code",
      "source": [
        "tf.ragged.boolean_mask(  # Mask rows of a 2D RaggedTensor.\n",
        "tf.ragged.constant([[1, 2, 3], [4], [5, 6]]),\n",
        "tf.ragged.constant([True, False, True]))"
      ],
      "metadata": {
        "colab": {
          "base_uri": "https://localhost:8080/"
        },
        "id": "DxkRy-5BNp7W",
        "outputId": "495cee48-327e-4093-a320-af7e4aa1ce62"
      },
      "execution_count": 76,
      "outputs": [
        {
          "output_type": "execute_result",
          "data": {
            "text/plain": [
              "<tf.RaggedTensor [[1, 2, 3], [5, 6]]>"
            ]
          },
          "metadata": {},
          "execution_count": 76
        }
      ]
    },
    {
      "cell_type": "code",
      "source": [
        "tf.ragged.cross([tf.ragged.constant([['a'], ['b', 'c']]),\n",
        "                 tf.ragged.constant([['d'], ['e']]),\n",
        "                 tf.ragged.constant([['f'], ['g']])]).to_list()"
      ],
      "metadata": {
        "colab": {
          "base_uri": "https://localhost:8080/"
        },
        "id": "QG_D5z1YOFs_",
        "outputId": "e504b4d6-db77-4a12-a77d-3e3e3959e88b"
      },
      "execution_count": 78,
      "outputs": [
        {
          "output_type": "execute_result",
          "data": {
            "text/plain": [
              "[[b'a_X_d_X_f'], [b'b_X_e_X_g', b'c_X_e_X_g']]"
            ]
          },
          "metadata": {},
          "execution_count": 78
        }
      ]
    },
    {
      "cell_type": "code",
      "source": [
        "tf.SparseTensor(indices=[[0, 0], [1, 2]], values=[1, 2], dense_shape=[3, 4])"
      ],
      "metadata": {
        "colab": {
          "base_uri": "https://localhost:8080/"
        },
        "id": "wE73YtFWPoq7",
        "outputId": "f6d29300-d010-4c17-ce8c-c2efc419f2a9"
      },
      "execution_count": 79,
      "outputs": [
        {
          "output_type": "execute_result",
          "data": {
            "text/plain": [
              "SparseTensor(indices=tf.Tensor(\n",
              "[[0 0]\n",
              " [1 2]], shape=(2, 2), dtype=int64), values=tf.Tensor([1 2], shape=(2,), dtype=int32), dense_shape=tf.Tensor([3 4], shape=(2,), dtype=int64))"
            ]
          },
          "metadata": {},
          "execution_count": 79
        }
      ]
    },
    {
      "cell_type": "markdown",
      "source": [
        "# Variables"
      ],
      "metadata": {
        "id": "Vn433eddR6W9"
      }
    },
    {
      "cell_type": "code",
      "source": [
        "v = tf.Variable(1.)\n",
        "v.assign(2.)\n",
        "v"
      ],
      "metadata": {
        "colab": {
          "base_uri": "https://localhost:8080/"
        },
        "id": "nR2kNiBORYNy",
        "outputId": "f439224a-bc57-4e0f-c103-8ed2f068e5c1"
      },
      "execution_count": 81,
      "outputs": [
        {
          "output_type": "execute_result",
          "data": {
            "text/plain": [
              "<tf.Variable 'Variable:0' shape=() dtype=float32, numpy=2.0>"
            ]
          },
          "metadata": {},
          "execution_count": 81
        }
      ]
    },
    {
      "cell_type": "code",
      "source": [
        "v = tf.Variable(1., shape=tf.TensorShape(None))\n",
        "v.assign([[1.]])"
      ],
      "metadata": {
        "colab": {
          "base_uri": "https://localhost:8080/"
        },
        "id": "zDDlCf1jR_Xf",
        "outputId": "a3a3f442-cf13-48c5-fc12-bc1f89d8bb30"
      },
      "execution_count": 82,
      "outputs": [
        {
          "output_type": "execute_result",
          "data": {
            "text/plain": [
              "<tf.Variable 'UnreadVariable' shape=<unknown> dtype=float32, numpy=array([[1.]], dtype=float32)>"
            ]
          },
          "metadata": {},
          "execution_count": 82
        }
      ]
    },
    {
      "cell_type": "code",
      "source": [],
      "metadata": {
        "id": "WV3xHofFSEHS"
      },
      "execution_count": null,
      "outputs": []
    }
  ]
}